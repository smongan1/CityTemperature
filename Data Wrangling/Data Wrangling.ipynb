{
 "cells": [
  {
   "cell_type": "code",
   "execution_count": 127,
   "metadata": {},
   "outputs": [],
   "source": [
    "import glob\n",
    "import pandas as pd\n",
    "import re"
   ]
  },
  {
   "cell_type": "code",
   "execution_count": 128,
   "metadata": {},
   "outputs": [
    {
     "name": "stderr",
     "output_type": "stream",
     "text": [
      "K:\\Anaconda\\lib\\site-packages\\IPython\\core\\interactiveshell.py:3169: DtypeWarning: Columns (2) have mixed types.Specify dtype option on import or set low_memory=False.\n",
      "  has_raised = await self.run_ast_nodes(code_ast.body, cell_name,\n"
     ]
    }
   ],
   "source": [
    "csv_files = glob.glob('./*.csv')\n",
    "dataframes=[]\n",
    "col_names_list = []\n",
    "for x in csv_files:\n",
    "    dataframes.append(pd.read_csv(x))\n",
    "    col_names_list.append(list(dataframes[-1].columns))"
   ]
  },
  {
   "cell_type": "code",
   "execution_count": 129,
   "metadata": {},
   "outputs": [
    {
     "data": {
      "text/plain": [
       "[['.\\\\city_temperature.csv', True],\n",
       " ['.\\\\EdStatsData.csv', True],\n",
       " ['.\\\\global-city-population-estimates-CITIES-OVER-300K.csv', True],\n",
       " ['.\\\\Qol_data.csv', False],\n",
       " ['.\\\\WPP2019_PopulationByAgeSex_Medium.csv', False],\n",
       " ['.\\\\WRP national data.csv', False]]"
      ]
     },
     "execution_count": 129,
     "metadata": {},
     "output_type": "execute_result"
    }
   ],
   "source": [
    "#checks to see if the df has anything to signify country\n",
    "[[csv_files[y],sum([bool(re.search('ountry',x)) for x in col_names_list[y]])>0] for y in range(len(col_names_list))]"
   ]
  },
  {
   "cell_type": "code",
   "execution_count": 130,
   "metadata": {},
   "outputs": [],
   "source": [
    "Temp_df = dataframes[0].copy()\n",
    "Ed_df = dataframes[1].copy()\n",
    "City_pop_df = dataframes[2].copy()\n",
    "QoL_df = dataframes[3].copy()\n",
    "Age_df = dataframes[4].copy()\n",
    "Rel_df = dataframes[5].copy()"
   ]
  },
  {
   "cell_type": "code",
   "execution_count": 131,
   "metadata": {},
   "outputs": [
    {
     "name": "stdout",
     "output_type": "stream",
     "text": [
      "0\n",
      "csv file:.\\city_temperature.csv\n",
      "column name:Country\n",
      " first entry:Algeria\n",
      "\n",
      "1\n",
      "csv file:.\\EdStatsData.csv\n",
      "column name:Country Name\n",
      " first entry:Arab World\n",
      "\n",
      "column name:Country Code\n",
      " first entry:ARB\n",
      "\n",
      "2\n",
      "csv file:.\\global-city-population-estimates-CITIES-OVER-300K.csv\n",
      "column name:Country Code\n",
      " first entry:392\n",
      "\n",
      "column name:Country or area\n",
      " first entry:Japan\n",
      "\n",
      "3\n",
      "csv file:.\\Qol_data.csv\n",
      "4\n",
      "csv file:.\\WPP2019_PopulationByAgeSex_Medium.csv\n",
      "5\n",
      "csv file:.\\WRP national data.csv\n"
     ]
    }
   ],
   "source": [
    "for idx in range(6):\n",
    "    names = col_names_list[idx]\n",
    "    print(idx)\n",
    "    print('csv file:' + csv_files[idx])\n",
    "    for name in names:\n",
    "        if bool(re.search('ountry',name)):\n",
    "                print('column name:' + name + '\\n','first entry:' + str(dataframes[idx][name][0]) + '\\n')"
   ]
  },
  {
   "cell_type": "code",
   "execution_count": 132,
   "metadata": {},
   "outputs": [
    {
     "data": {
      "text/html": [
       "<div>\n",
       "<style scoped>\n",
       "    .dataframe tbody tr th:only-of-type {\n",
       "        vertical-align: middle;\n",
       "    }\n",
       "\n",
       "    .dataframe tbody tr th {\n",
       "        vertical-align: top;\n",
       "    }\n",
       "\n",
       "    .dataframe thead th {\n",
       "        text-align: right;\n",
       "    }\n",
       "</style>\n",
       "<table border=\"1\" class=\"dataframe\">\n",
       "  <thead>\n",
       "    <tr style=\"text-align: right;\">\n",
       "      <th></th>\n",
       "      <th>year</th>\n",
       "      <th>City</th>\n",
       "      <th>Quality of Life Index</th>\n",
       "      <th>Purchasing Power Index</th>\n",
       "      <th>Safety Index</th>\n",
       "      <th>Health Care Index</th>\n",
       "      <th>Cost of Living Index</th>\n",
       "      <th>Property Price to Income Ratio</th>\n",
       "      <th>Traffic Commute Time Index</th>\n",
       "      <th>Pollution Index</th>\n",
       "      <th>Country</th>\n",
       "    </tr>\n",
       "  </thead>\n",
       "  <tbody>\n",
       "    <tr>\n",
       "      <th>0</th>\n",
       "      <td>2012-Q1</td>\n",
       "      <td>Tehran</td>\n",
       "      <td>215.25</td>\n",
       "      <td>140.62</td>\n",
       "      <td>77.34</td>\n",
       "      <td>64.81</td>\n",
       "      <td>89.06</td>\n",
       "      <td>5.74</td>\n",
       "      <td>23.00</td>\n",
       "      <td>40.00</td>\n",
       "      <td>Iran</td>\n",
       "    </tr>\n",
       "    <tr>\n",
       "      <th>1</th>\n",
       "      <td>2012-Q1</td>\n",
       "      <td>Tehran</td>\n",
       "      <td>213.18</td>\n",
       "      <td>136.31</td>\n",
       "      <td>83.85</td>\n",
       "      <td>77.78</td>\n",
       "      <td>166.07</td>\n",
       "      <td>8.27</td>\n",
       "      <td>27.33</td>\n",
       "      <td>26.50</td>\n",
       "      <td>Iran</td>\n",
       "    </tr>\n",
       "    <tr>\n",
       "      <th>2</th>\n",
       "      <td>2012-Q1</td>\n",
       "      <td>Tehran</td>\n",
       "      <td>204.86</td>\n",
       "      <td>124.69</td>\n",
       "      <td>58.98</td>\n",
       "      <td>78.89</td>\n",
       "      <td>112.10</td>\n",
       "      <td>3.59</td>\n",
       "      <td>35.33</td>\n",
       "      <td>21.25</td>\n",
       "      <td>Iran</td>\n",
       "    </tr>\n",
       "    <tr>\n",
       "      <th>3</th>\n",
       "      <td>2012-Q1</td>\n",
       "      <td>Tehran</td>\n",
       "      <td>196.00</td>\n",
       "      <td>118.34</td>\n",
       "      <td>48.75</td>\n",
       "      <td>87.04</td>\n",
       "      <td>142.18</td>\n",
       "      <td>5.24</td>\n",
       "      <td>27.00</td>\n",
       "      <td>15.00</td>\n",
       "      <td>Iran</td>\n",
       "    </tr>\n",
       "    <tr>\n",
       "      <th>4</th>\n",
       "      <td>2012-Q1</td>\n",
       "      <td>Tehran</td>\n",
       "      <td>190.78</td>\n",
       "      <td>124.25</td>\n",
       "      <td>71.88</td>\n",
       "      <td>70.42</td>\n",
       "      <td>111.71</td>\n",
       "      <td>4.58</td>\n",
       "      <td>62.00</td>\n",
       "      <td>25.08</td>\n",
       "      <td>Iran</td>\n",
       "    </tr>\n",
       "  </tbody>\n",
       "</table>\n",
       "</div>"
      ],
      "text/plain": [
       "      year    City  Quality of Life Index  Purchasing Power Index  \\\n",
       "0  2012-Q1  Tehran                 215.25                  140.62   \n",
       "1  2012-Q1  Tehran                 213.18                  136.31   \n",
       "2  2012-Q1  Tehran                 204.86                  124.69   \n",
       "3  2012-Q1  Tehran                 196.00                  118.34   \n",
       "4  2012-Q1  Tehran                 190.78                  124.25   \n",
       "\n",
       "   Safety Index  Health Care Index  Cost of Living Index  \\\n",
       "0         77.34              64.81                 89.06   \n",
       "1         83.85              77.78                166.07   \n",
       "2         58.98              78.89                112.10   \n",
       "3         48.75              87.04                142.18   \n",
       "4         71.88              70.42                111.71   \n",
       "\n",
       "   Property Price to Income Ratio  Traffic Commute Time Index  \\\n",
       "0                            5.74                       23.00   \n",
       "1                            8.27                       27.33   \n",
       "2                            3.59                       35.33   \n",
       "3                            5.24                       27.00   \n",
       "4                            4.58                       62.00   \n",
       "\n",
       "   Pollution Index Country  \n",
       "0            40.00    Iran  \n",
       "1            26.50    Iran  \n",
       "2            21.25    Iran  \n",
       "3            15.00    Iran  \n",
       "4            25.08    Iran  "
      ]
     },
     "execution_count": 132,
     "metadata": {},
     "output_type": "execute_result"
    }
   ],
   "source": [
    "city_list = list(QoL_df['City'].str.split(','))\n",
    "country_list = []\n",
    "city_list_df = []\n",
    "for city in city_list:\n",
    "    country_list = city[-1]\n",
    "    city_list_df = city[0]\n",
    "QoL_df['Country'] = country_list\n",
    "QoL_df['City'] = city_list_df\n",
    "QoL_df.head()"
   ]
  },
  {
   "cell_type": "code",
   "execution_count": 188,
   "metadata": {},
   "outputs": [],
   "source": [
    "Age_df['Country'] = Age_df['Location']\n",
    "Age_df_time = pd.DataFrame(Age_df.groupby(['Time','Location'])[['PopTotal']].sum()).reset_index()\n",
    "Age_df_m = Age_df.merge(Age_df_time, on = ['Time','Location'], how = 'left')\n",
    "Age_df_m['AgeGrpPopPer'] = 100*Age_df_m['PopTotal_x']/Age_df_m['PopTotal_y']"
   ]
  },
  {
   "cell_type": "code",
   "execution_count": null,
   "metadata": {},
   "outputs": [],
   "source": []
  },
  {
   "cell_type": "code",
   "execution_count": null,
   "metadata": {},
   "outputs": [],
   "source": []
  },
  {
   "cell_type": "code",
   "execution_count": null,
   "metadata": {},
   "outputs": [],
   "source": []
  }
 ],
 "metadata": {
  "kernelspec": {
   "display_name": "Python 3",
   "language": "python",
   "name": "python3"
  },
  "language_info": {
   "codemirror_mode": {
    "name": "ipython",
    "version": 3
   },
   "file_extension": ".py",
   "mimetype": "text/x-python",
   "name": "python",
   "nbconvert_exporter": "python",
   "pygments_lexer": "ipython3",
   "version": "3.8.5"
  }
 },
 "nbformat": 4,
 "nbformat_minor": 4
}
