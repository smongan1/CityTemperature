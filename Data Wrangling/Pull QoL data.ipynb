{
 "cells": [
  {
   "cell_type": "code",
   "execution_count": 92,
   "metadata": {},
   "outputs": [],
   "source": [
    "from bs4 import BeautifulSoup as bs\n",
    "import requests\n",
    "import pandas as pd"
   ]
  },
  {
   "cell_type": "code",
   "execution_count": 101,
   "metadata": {},
   "outputs": [],
   "source": [
    "url = \"https://www.numbeo.com/quality-of-life/rankings.jsp?title=\"\n",
    "titles = ['2012-Q1','2013-Q1','2014','2014-mid','2015','2015-mid','2016','2016-mid','2017','2017-mid','2018','2018-mid','2019','2019-mid','2020','2020-mid','2021','2021-mid']"
   ]
  },
  {
   "cell_type": "code",
   "execution_count": 124,
   "metadata": {},
   "outputs": [],
   "source": [
    "flag = 0 #stops the column names from being recovered\n",
    "df = []\n",
    "for title in titles: # uses the titles of different web pages to collect all Qol Data from each year\n",
    "    page = requests.get(url+title)\n",
    "    soup = bs(page.content, 'html.parser')\n",
    "    table = soup.find('table', id = 't2') #the tables with the appropriate data have id 't2'\n",
    "    if flag == 0:\n",
    "        html_col = table.find('thead')\n",
    "        col_name = [x.text for x in html_col.find_all('div')]\n",
    "        col_name.insert(1,'year')\n",
    "        flag = 1 #stops the column names from being recovered\n",
    "    html_data = table.find('tbody')\n",
    "    data_rows = html_data.find_all('tr')\n",
    "    for row in data_rows:\n",
    "        df_row = [x.text for x in row.find_all('td')]\n",
    "        df_row.insert(1,title)\n",
    "        df.append(df_row)\n",
    "df = pd.DataFrame(df)\n",
    "df.columns = col_name\n",
    "df = df[df.columns[1:-1]]\n",
    "df.to_csv('./Qol_data.csv',index = False)"
   ]
  },
  {
   "cell_type": "code",
   "execution_count": 114,
   "metadata": {},
   "outputs": [
    {
     "name": "stdout",
     "output_type": "stream",
     "text": [
      "None\n"
     ]
    }
   ],
   "source": [
    "print(col_name)"
   ]
  },
  {
   "cell_type": "code",
   "execution_count": null,
   "metadata": {},
   "outputs": [],
   "source": []
  }
 ],
 "metadata": {
  "kernelspec": {
   "display_name": "Python 3",
   "language": "python",
   "name": "python3"
  },
  "language_info": {
   "codemirror_mode": {
    "name": "ipython",
    "version": 3
   },
   "file_extension": ".py",
   "mimetype": "text/x-python",
   "name": "python",
   "nbconvert_exporter": "python",
   "pygments_lexer": "ipython3",
   "version": "3.8.5"
  }
 },
 "nbformat": 4,
 "nbformat_minor": 4
}
